{
 "cells": [
  {
   "cell_type": "code",
   "execution_count": 11,
   "id": "6af53dba",
   "metadata": {},
   "outputs": [],
   "source": [
    "import pickle\n"
   ]
  },
  {
   "cell_type": "code",
   "execution_count": 12,
   "id": "6e568692",
   "metadata": {},
   "outputs": [],
   "source": [
    "with open('./model_C=1.0.bin', 'rb') as f_in:\n",
    "    (dv, model) = pickle.load(f_in)"
   ]
  },
  {
   "cell_type": "code",
   "execution_count": 13,
   "id": "56be535b",
   "metadata": {},
   "outputs": [
    {
     "data": {
      "text/html": [
       "<style>#sk-container-id-3 {color: black;background-color: white;}#sk-container-id-3 pre{padding: 0;}#sk-container-id-3 div.sk-toggleable {background-color: white;}#sk-container-id-3 label.sk-toggleable__label {cursor: pointer;display: block;width: 100%;margin-bottom: 0;padding: 0.3em;box-sizing: border-box;text-align: center;}#sk-container-id-3 label.sk-toggleable__label-arrow:before {content: \"▸\";float: left;margin-right: 0.25em;color: #696969;}#sk-container-id-3 label.sk-toggleable__label-arrow:hover:before {color: black;}#sk-container-id-3 div.sk-estimator:hover label.sk-toggleable__label-arrow:before {color: black;}#sk-container-id-3 div.sk-toggleable__content {max-height: 0;max-width: 0;overflow: hidden;text-align: left;background-color: #f0f8ff;}#sk-container-id-3 div.sk-toggleable__content pre {margin: 0.2em;color: black;border-radius: 0.25em;background-color: #f0f8ff;}#sk-container-id-3 input.sk-toggleable__control:checked~div.sk-toggleable__content {max-height: 200px;max-width: 100%;overflow: auto;}#sk-container-id-3 input.sk-toggleable__control:checked~label.sk-toggleable__label-arrow:before {content: \"▾\";}#sk-container-id-3 div.sk-estimator input.sk-toggleable__control:checked~label.sk-toggleable__label {background-color: #d4ebff;}#sk-container-id-3 div.sk-label input.sk-toggleable__control:checked~label.sk-toggleable__label {background-color: #d4ebff;}#sk-container-id-3 input.sk-hidden--visually {border: 0;clip: rect(1px 1px 1px 1px);clip: rect(1px, 1px, 1px, 1px);height: 1px;margin: -1px;overflow: hidden;padding: 0;position: absolute;width: 1px;}#sk-container-id-3 div.sk-estimator {font-family: monospace;background-color: #f0f8ff;border: 1px dotted black;border-radius: 0.25em;box-sizing: border-box;margin-bottom: 0.5em;}#sk-container-id-3 div.sk-estimator:hover {background-color: #d4ebff;}#sk-container-id-3 div.sk-parallel-item::after {content: \"\";width: 100%;border-bottom: 1px solid gray;flex-grow: 1;}#sk-container-id-3 div.sk-label:hover label.sk-toggleable__label {background-color: #d4ebff;}#sk-container-id-3 div.sk-serial::before {content: \"\";position: absolute;border-left: 1px solid gray;box-sizing: border-box;top: 0;bottom: 0;left: 50%;z-index: 0;}#sk-container-id-3 div.sk-serial {display: flex;flex-direction: column;align-items: center;background-color: white;padding-right: 0.2em;padding-left: 0.2em;position: relative;}#sk-container-id-3 div.sk-item {position: relative;z-index: 1;}#sk-container-id-3 div.sk-parallel {display: flex;align-items: stretch;justify-content: center;background-color: white;position: relative;}#sk-container-id-3 div.sk-item::before, #sk-container-id-3 div.sk-parallel-item::before {content: \"\";position: absolute;border-left: 1px solid gray;box-sizing: border-box;top: 0;bottom: 0;left: 50%;z-index: -1;}#sk-container-id-3 div.sk-parallel-item {display: flex;flex-direction: column;z-index: 1;position: relative;background-color: white;}#sk-container-id-3 div.sk-parallel-item:first-child::after {align-self: flex-end;width: 50%;}#sk-container-id-3 div.sk-parallel-item:last-child::after {align-self: flex-start;width: 50%;}#sk-container-id-3 div.sk-parallel-item:only-child::after {width: 0;}#sk-container-id-3 div.sk-dashed-wrapped {border: 1px dashed gray;margin: 0 0.4em 0.5em 0.4em;box-sizing: border-box;padding-bottom: 0.4em;background-color: white;}#sk-container-id-3 div.sk-label label {font-family: monospace;font-weight: bold;display: inline-block;line-height: 1.2em;}#sk-container-id-3 div.sk-label-container {text-align: center;}#sk-container-id-3 div.sk-container {/* jupyter's `normalize.less` sets `[hidden] { display: none; }` but bootstrap.min.css set `[hidden] { display: none !important; }` so we also need the `!important` here to be able to override the default hidden behavior on the sphinx rendered scikit-learn.org. See: https://github.com/scikit-learn/scikit-learn/issues/21755 */display: inline-block !important;position: relative;}#sk-container-id-3 div.sk-text-repr-fallback {display: none;}</style><div id=\"sk-container-id-3\" class=\"sk-top-container\"><div class=\"sk-text-repr-fallback\"><pre>DictVectorizer()</pre><b>In a Jupyter environment, please rerun this cell to show the HTML representation or trust the notebook. <br />On GitHub, the HTML representation is unable to render, please try loading this page with nbviewer.org.</b></div><div class=\"sk-container\" hidden><div class=\"sk-item\"><div class=\"sk-estimator sk-toggleable\"><input class=\"sk-toggleable__control sk-hidden--visually\" id=\"sk-estimator-id-3\" type=\"checkbox\" checked><label for=\"sk-estimator-id-3\" class=\"sk-toggleable__label sk-toggleable__label-arrow\">DictVectorizer</label><div class=\"sk-toggleable__content\"><pre>DictVectorizer()</pre></div></div></div></div></div>"
      ],
      "text/plain": [
       "DictVectorizer()"
      ]
     },
     "execution_count": 13,
     "metadata": {},
     "output_type": "execute_result"
    }
   ],
   "source": [
    "dv"
   ]
  },
  {
   "cell_type": "code",
   "execution_count": 14,
   "id": "87b8f2a0",
   "metadata": {},
   "outputs": [
    {
     "data": {
      "text/html": [
       "<style>#sk-container-id-4 {color: black;background-color: white;}#sk-container-id-4 pre{padding: 0;}#sk-container-id-4 div.sk-toggleable {background-color: white;}#sk-container-id-4 label.sk-toggleable__label {cursor: pointer;display: block;width: 100%;margin-bottom: 0;padding: 0.3em;box-sizing: border-box;text-align: center;}#sk-container-id-4 label.sk-toggleable__label-arrow:before {content: \"▸\";float: left;margin-right: 0.25em;color: #696969;}#sk-container-id-4 label.sk-toggleable__label-arrow:hover:before {color: black;}#sk-container-id-4 div.sk-estimator:hover label.sk-toggleable__label-arrow:before {color: black;}#sk-container-id-4 div.sk-toggleable__content {max-height: 0;max-width: 0;overflow: hidden;text-align: left;background-color: #f0f8ff;}#sk-container-id-4 div.sk-toggleable__content pre {margin: 0.2em;color: black;border-radius: 0.25em;background-color: #f0f8ff;}#sk-container-id-4 input.sk-toggleable__control:checked~div.sk-toggleable__content {max-height: 200px;max-width: 100%;overflow: auto;}#sk-container-id-4 input.sk-toggleable__control:checked~label.sk-toggleable__label-arrow:before {content: \"▾\";}#sk-container-id-4 div.sk-estimator input.sk-toggleable__control:checked~label.sk-toggleable__label {background-color: #d4ebff;}#sk-container-id-4 div.sk-label input.sk-toggleable__control:checked~label.sk-toggleable__label {background-color: #d4ebff;}#sk-container-id-4 input.sk-hidden--visually {border: 0;clip: rect(1px 1px 1px 1px);clip: rect(1px, 1px, 1px, 1px);height: 1px;margin: -1px;overflow: hidden;padding: 0;position: absolute;width: 1px;}#sk-container-id-4 div.sk-estimator {font-family: monospace;background-color: #f0f8ff;border: 1px dotted black;border-radius: 0.25em;box-sizing: border-box;margin-bottom: 0.5em;}#sk-container-id-4 div.sk-estimator:hover {background-color: #d4ebff;}#sk-container-id-4 div.sk-parallel-item::after {content: \"\";width: 100%;border-bottom: 1px solid gray;flex-grow: 1;}#sk-container-id-4 div.sk-label:hover label.sk-toggleable__label {background-color: #d4ebff;}#sk-container-id-4 div.sk-serial::before {content: \"\";position: absolute;border-left: 1px solid gray;box-sizing: border-box;top: 0;bottom: 0;left: 50%;z-index: 0;}#sk-container-id-4 div.sk-serial {display: flex;flex-direction: column;align-items: center;background-color: white;padding-right: 0.2em;padding-left: 0.2em;position: relative;}#sk-container-id-4 div.sk-item {position: relative;z-index: 1;}#sk-container-id-4 div.sk-parallel {display: flex;align-items: stretch;justify-content: center;background-color: white;position: relative;}#sk-container-id-4 div.sk-item::before, #sk-container-id-4 div.sk-parallel-item::before {content: \"\";position: absolute;border-left: 1px solid gray;box-sizing: border-box;top: 0;bottom: 0;left: 50%;z-index: -1;}#sk-container-id-4 div.sk-parallel-item {display: flex;flex-direction: column;z-index: 1;position: relative;background-color: white;}#sk-container-id-4 div.sk-parallel-item:first-child::after {align-self: flex-end;width: 50%;}#sk-container-id-4 div.sk-parallel-item:last-child::after {align-self: flex-start;width: 50%;}#sk-container-id-4 div.sk-parallel-item:only-child::after {width: 0;}#sk-container-id-4 div.sk-dashed-wrapped {border: 1px dashed gray;margin: 0 0.4em 0.5em 0.4em;box-sizing: border-box;padding-bottom: 0.4em;background-color: white;}#sk-container-id-4 div.sk-label label {font-family: monospace;font-weight: bold;display: inline-block;line-height: 1.2em;}#sk-container-id-4 div.sk-label-container {text-align: center;}#sk-container-id-4 div.sk-container {/* jupyter's `normalize.less` sets `[hidden] { display: none; }` but bootstrap.min.css set `[hidden] { display: none !important; }` so we also need the `!important` here to be able to override the default hidden behavior on the sphinx rendered scikit-learn.org. See: https://github.com/scikit-learn/scikit-learn/issues/21755 */display: inline-block !important;position: relative;}#sk-container-id-4 div.sk-text-repr-fallback {display: none;}</style><div id=\"sk-container-id-4\" class=\"sk-top-container\"><div class=\"sk-text-repr-fallback\"><pre>RandomForestClassifier(max_depth=20, min_samples_leaf=2, n_estimators=20,\n",
       "                       random_state=1)</pre><b>In a Jupyter environment, please rerun this cell to show the HTML representation or trust the notebook. <br />On GitHub, the HTML representation is unable to render, please try loading this page with nbviewer.org.</b></div><div class=\"sk-container\" hidden><div class=\"sk-item\"><div class=\"sk-estimator sk-toggleable\"><input class=\"sk-toggleable__control sk-hidden--visually\" id=\"sk-estimator-id-4\" type=\"checkbox\" checked><label for=\"sk-estimator-id-4\" class=\"sk-toggleable__label sk-toggleable__label-arrow\">RandomForestClassifier</label><div class=\"sk-toggleable__content\"><pre>RandomForestClassifier(max_depth=20, min_samples_leaf=2, n_estimators=20,\n",
       "                       random_state=1)</pre></div></div></div></div></div>"
      ],
      "text/plain": [
       "RandomForestClassifier(max_depth=20, min_samples_leaf=2, n_estimators=20,\n",
       "                       random_state=1)"
      ]
     },
     "execution_count": 14,
     "metadata": {},
     "output_type": "execute_result"
    }
   ],
   "source": [
    "model"
   ]
  },
  {
   "cell_type": "code",
   "execution_count": 18,
   "id": "2aae9f03",
   "metadata": {},
   "outputs": [],
   "source": [
    "customer1 = {\n",
    "'customer_id': '3071-VBYPO',\n",
    " 'gender': 'Male',\n",
    " 'age': 38,\n",
    " 'married': 'Yes',\n",
    " 'number_of_dependents': 2,\n",
    " 'city': 'Whittier',\n",
    " 'zip_code': 90604,\n",
    " 'latitude': 33.929704,\n",
    " 'longitude': -118.01208,\n",
    " 'number_of_referrals': 1,\n",
    " 'tenure_in_months': 3,\n",
    " 'offer': 'Offer E',\n",
    " 'phone_service': 'Yes',\n",
    " 'avg_monthly_long_distance_charges': 33.3,\n",
    " 'multiple_lines': 'No',\n",
    " 'internet_service': 'Yes',\n",
    " 'internet_type': 'Fiber Optic',\n",
    " 'avg_monthly_gb_download': 12.0,\n",
    " 'online_security': 'Yes',\n",
    " 'online_backup': 'Yes',\n",
    " 'device_protection_plan': 'No',\n",
    " 'premium_tech_support': 'No',\n",
    " 'streaming_tv': 'Yes',\n",
    " 'streaming_movies': 'No',\n",
    " 'streaming_music': 'No',\n",
    " 'unlimited_data': 'Yes',\n",
    " 'contract': 'Month-to-Month',\n",
    " 'paperless_billing': 'No',\n",
    " 'payment_method': 'Bank Withdrawal',\n",
    " 'monthly_charge': 89.85,\n",
    " 'total_charges': 248.4,\n",
    " 'total_refunds': 0.0,\n",
    " 'total_extra_data_charges': 0,\n",
    " 'total_long_distance_charges': 99.9,\n",
    " 'total_revenue': 348.3,\n",
    " 'customer_status': 1.0,\n",
    " 'churn_category': 'Competitor',\n",
    " 'churn_reason': 'Competitor had better devices'\n",
    " }"
   ]
  },
  {
   "cell_type": "code",
   "execution_count": 19,
   "id": "c86a503e",
   "metadata": {},
   "outputs": [],
   "source": [
    "customer2={'customer_id': '2362-IBOOY',\n",
    " 'gender': 'Male',\n",
    " 'age': 22,\n",
    " 'married': 'No',\n",
    " 'number_of_dependents': 0,\n",
    " 'city': 'San Diego',\n",
    " 'zip_code': 92126,\n",
    " 'latitude': 32.886925,\n",
    " 'longitude': -117.152162,\n",
    " 'number_of_referrals': 0,\n",
    " 'tenure_in_months': 36,\n",
    " 'offer': 'Offer C',\n",
    " 'phone_service': 'Yes',\n",
    " 'avg_monthly_long_distance_charges': 43.97,\n",
    " 'multiple_lines': 'Yes',\n",
    " 'internet_service': 'Yes',\n",
    " 'internet_type': 'Fiber Optic',\n",
    " 'avg_monthly_gb_download': 42.0,\n",
    " 'online_security': 'No',\n",
    " 'online_backup': 'No',\n",
    " 'device_protection_plan': 'No',\n",
    " 'premium_tech_support': 'No',\n",
    " 'streaming_tv': 'No',\n",
    " 'streaming_movies': 'Yes',\n",
    " 'streaming_music': 'Yes',\n",
    " 'unlimited_data': 'Yes',\n",
    " 'contract': 'Month-to-Month',\n",
    " 'paperless_billing': 'Yes',\n",
    " 'payment_method': 'Bank Withdrawal',\n",
    " 'monthly_charge': 84.75,\n",
    " 'total_charges': 3050.15,\n",
    " 'total_refunds': 0.0,\n",
    " 'total_extra_data_charges': 0,\n",
    " 'total_long_distance_charges': 1582.92,\n",
    " 'total_revenue': 4633.07,\n",
    " 'customer_status': 0.0,\n",
    " 'churn_category': 'Competitor',\n",
    " 'churn_reason': 'Competitor made better offer'}"
   ]
  },
  {
   "cell_type": "code",
   "execution_count": 20,
   "id": "2810a9e5",
   "metadata": {},
   "outputs": [],
   "source": [
    "customer3={'customer_id': '7302-ZHMHP',\n",
    " 'gender': 'Female',\n",
    " 'age': 35,\n",
    " 'married': 'No',\n",
    " 'number_of_dependents': 0,\n",
    " 'city': 'Coronado',\n",
    " 'zip_code': 92118,\n",
    " 'latitude': 32.68674,\n",
    " 'longitude': -117.186612,\n",
    " 'number_of_referrals': 0,\n",
    " 'tenure_in_months': 1,\n",
    " 'offer': 'None',\n",
    " 'phone_service': 'Yes',\n",
    " 'avg_monthly_long_distance_charges': 22.37,\n",
    " 'multiple_lines': 'No',\n",
    " 'internet_service': 'No',\n",
    " 'internet_type': 'Fiber Optic',\n",
    " 'avg_monthly_gb_download': 26.189958310676094,\n",
    " 'online_security': 'No',\n",
    " 'online_backup': 'No',\n",
    " 'device_protection_plan': 'No',\n",
    " 'premium_tech_support': 'No',\n",
    " 'streaming_tv': 'No',\n",
    " 'streaming_movies': 'No',\n",
    " 'streaming_music': 'No',\n",
    " 'unlimited_data': 'Yes',\n",
    " 'contract': 'Month-to-Month',\n",
    " 'paperless_billing': 'No',\n",
    " 'payment_method': 'Credit Card',\n",
    " 'monthly_charge': 19.15,\n",
    " 'total_charges': 19.15,\n",
    " 'total_refunds': 0.0,\n",
    " 'total_extra_data_charges': 0,\n",
    " 'total_long_distance_charges': 22.37,\n",
    " 'total_revenue': 41.52,\n",
    " 'customer_status': 1.0,\n",
    " 'churn_category': 'Competitor',\n",
    " 'churn_reason': 'Competitor had better devices'}"
   ]
  },
  {
   "cell_type": "code",
   "execution_count": 21,
   "id": "59c90324",
   "metadata": {},
   "outputs": [],
   "source": [
    "X1 = dv.transform([customer1])\n",
    "X2 = dv.transform([customer2])\n",
    "X3 = dv.transform([customer3])"
   ]
  },
  {
   "cell_type": "code",
   "execution_count": 22,
   "id": "561c9fb9",
   "metadata": {},
   "outputs": [],
   "source": [
    "y_pred1 = model.predict_proba(X1)\n",
    "y_pred2 = model.predict_proba(X2)\n",
    "y_pred3 = model.predict_proba(X3)"
   ]
  },
  {
   "cell_type": "code",
   "execution_count": 23,
   "id": "1e88b19f",
   "metadata": {},
   "outputs": [
    {
     "data": {
      "text/plain": [
       "(array([[0.2963004 , 0.25401591, 0.44968369]]),\n",
       " array([[0.75434047, 0.00630713, 0.2393524 ]]),\n",
       " array([[0.14357413, 0.57624396, 0.28018192]]))"
      ]
     },
     "execution_count": 23,
     "metadata": {},
     "output_type": "execute_result"
    }
   ],
   "source": [
    "y_pred1, y_pred2,y_pred3"
   ]
  }
 ],
 "metadata": {
  "kernelspec": {
   "display_name": "Python 3 (ipykernel)",
   "language": "python",
   "name": "python3"
  },
  "language_info": {
   "codemirror_mode": {
    "name": "ipython",
    "version": 3
   },
   "file_extension": ".py",
   "mimetype": "text/x-python",
   "name": "python",
   "nbconvert_exporter": "python",
   "pygments_lexer": "ipython3",
   "version": "3.10.11"
  }
 },
 "nbformat": 4,
 "nbformat_minor": 5
}
