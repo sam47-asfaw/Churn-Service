{
 "cells": [
  {
   "cell_type": "code",
   "execution_count": 1,
   "metadata": {},
   "outputs": [],
   "source": [
    "import requests\n",
    "import os\n",
    "import json "
   ]
  },
  {
   "cell_type": "code",
   "execution_count": 36,
   "metadata": {},
   "outputs": [],
   "source": [
    "url = \"https://predict-3zyk4q2wua-ue.a.run.app\""
   ]
  },
  {
   "cell_type": "code",
   "execution_count": 10,
   "metadata": {},
   "outputs": [],
   "source": [
    "def load_json_file(folder_path, file_name):\n",
    "    file_path = os.path.join(folder_path, file_name)\n",
    "    with open(file_path, 'r') as file:\n",
    "        data = json.load(file)\n",
    "    return data\n",
    "\n",
    "# path to JSON files\n",
    "folder1_path = os.path.join('test_data')\n",
    "\n",
    "# Load JSON files from different folders\n",
    "customer1 = load_json_file(folder1_path, 'test1.json')\n",
    "customer2 = load_json_file(folder1_path, 'test2.json')\n",
    "customer3 = load_json_file(folder1_path, 'test3.json')"
   ]
  },
  {
   "cell_type": "code",
   "execution_count": 11,
   "metadata": {},
   "outputs": [
    {
     "data": {
      "text/plain": [
       "{'customer_id': '9967-ATRFS',\n",
       " 'gender': 'Female',\n",
       " 'age': 47,\n",
       " 'married': 'No',\n",
       " 'number_of_dependents': 0,\n",
       " 'city': 'Calipatria',\n",
       " 'zip_code': 92233,\n",
       " 'latitude': 33.143826,\n",
       " 'longitude': -115.497485,\n",
       " 'number_of_referrals': 0,\n",
       " 'tenure_in_months': 19,\n",
       " 'offer': 'None',\n",
       " 'phone_service': 'Yes',\n",
       " 'avg_monthly_long_distance_charges': 32.03,\n",
       " 'multiple_lines': 'No',\n",
       " 'internet_service': 'No',\n",
       " 'internet_type': 'Fiber Optic',\n",
       " 'avg_monthly_gb_download': 26.189958310676094,\n",
       " 'online_security': 'No',\n",
       " 'online_backup': 'No',\n",
       " 'device_protection_plan': 'No',\n",
       " 'premium_tech_support': 'No',\n",
       " 'streaming_tv': 'No',\n",
       " 'streaming_movies': 'No',\n",
       " 'streaming_music': 'No',\n",
       " 'unlimited_data': 'Yes',\n",
       " 'contract': 'Month-to-Month',\n",
       " 'paperless_billing': 'No',\n",
       " 'payment_method': 'Credit Card',\n",
       " 'monthly_charge': 19.9,\n",
       " 'total_charges': 367.55,\n",
       " 'total_refunds': 0.0,\n",
       " 'total_extra_data_charges': 0,\n",
       " 'total_long_distance_charges': 608.57,\n",
       " 'total_revenue': 976.12,\n",
       " 'churn_category': 'Competitor',\n",
       " 'churn_reason': 'Competitor had better devices'}"
      ]
     },
     "execution_count": 11,
     "metadata": {},
     "output_type": "execute_result"
    }
   ],
   "source": [
    "customer1"
   ]
  },
  {
   "cell_type": "code",
   "execution_count": 12,
   "metadata": {},
   "outputs": [
    {
     "data": {
      "text/plain": [
       "{'customer_id': '2362-IBOOY',\n",
       " 'gender': 'Male',\n",
       " 'age': 22,\n",
       " 'married': 'No',\n",
       " 'number_of_dependents': 0,\n",
       " 'city': 'San Diego',\n",
       " 'zip_code': 92126,\n",
       " 'latitude': 32.886925,\n",
       " 'longitude': -117.152162,\n",
       " 'number_of_referrals': 0,\n",
       " 'tenure_in_months': 36,\n",
       " 'offer': 'Offer C',\n",
       " 'phone_service': 'Yes',\n",
       " 'avg_monthly_long_distance_charges': 43.97,\n",
       " 'multiple_lines': 'Yes',\n",
       " 'internet_service': 'Yes',\n",
       " 'internet_type': 'Fiber Optic',\n",
       " 'avg_monthly_gb_download': 42.0,\n",
       " 'online_security': 'No',\n",
       " 'online_backup': 'No',\n",
       " 'device_protection_plan': 'No',\n",
       " 'premium_tech_support': 'No',\n",
       " 'streaming_tv': 'No',\n",
       " 'streaming_movies': 'Yes',\n",
       " 'streaming_music': 'Yes',\n",
       " 'unlimited_data': 'Yes',\n",
       " 'contract': 'Month-to-Month',\n",
       " 'paperless_billing': 'Yes',\n",
       " 'payment_method': 'Bank Withdrawal',\n",
       " 'monthly_charge': 84.75,\n",
       " 'total_charges': 3050.15,\n",
       " 'total_refunds': 0.0,\n",
       " 'total_extra_data_charges': 0,\n",
       " 'total_long_distance_charges': 1582.92,\n",
       " 'total_revenue': 4633.07,\n",
       " 'customer_status': 0.0,\n",
       " 'churn_category': 'Competitor',\n",
       " 'churn_reason': 'Competitor made better offer'}"
      ]
     },
     "execution_count": 12,
     "metadata": {},
     "output_type": "execute_result"
    }
   ],
   "source": [
    "customer2"
   ]
  },
  {
   "cell_type": "code",
   "execution_count": 13,
   "metadata": {},
   "outputs": [
    {
     "data": {
      "text/plain": [
       "{'customer_id': '7302-ZHMHP',\n",
       " 'gender': 'Female',\n",
       " 'age': 35,\n",
       " 'married': 'No',\n",
       " 'number_of_dependents': 0,\n",
       " 'city': 'Coronado',\n",
       " 'zip_code': 92118,\n",
       " 'latitude': 32.68674,\n",
       " 'longitude': -117.186612,\n",
       " 'number_of_referrals': 0,\n",
       " 'tenure_in_months': 1,\n",
       " 'offer': 'None',\n",
       " 'phone_service': 'Yes',\n",
       " 'avg_monthly_long_distance_charges': 22.37,\n",
       " 'multiple_lines': 'No',\n",
       " 'internet_service': 'No',\n",
       " 'internet_type': 'Fiber Optic',\n",
       " 'avg_monthly_gb_download': 26.189958310676094,\n",
       " 'online_security': 'No',\n",
       " 'online_backup': 'No',\n",
       " 'device_protection_plan': 'No',\n",
       " 'premium_tech_support': 'No',\n",
       " 'streaming_tv': 'No',\n",
       " 'streaming_movies': 'No',\n",
       " 'streaming_music': 'No',\n",
       " 'unlimited_data': 'Yes',\n",
       " 'contract': 'Month-to-Month',\n",
       " 'paperless_billing': 'No',\n",
       " 'payment_method': 'Credit Card',\n",
       " 'monthly_charge': 19.15,\n",
       " 'total_charges': 19.15,\n",
       " 'total_refunds': 0.0,\n",
       " 'total_extra_data_charges': 0,\n",
       " 'total_long_distance_charges': 22.37,\n",
       " 'total_revenue': 41.52,\n",
       " 'customer_status': 1.0,\n",
       " 'churn_category': 'Competitor',\n",
       " 'churn_reason': 'Competitor had better devices'}"
      ]
     },
     "execution_count": 13,
     "metadata": {},
     "output_type": "execute_result"
    }
   ],
   "source": [
    "customer3"
   ]
  },
  {
   "cell_type": "code",
   "execution_count": 37,
   "metadata": {},
   "outputs": [
    {
     "name": "stdout",
     "output_type": "stream",
     "text": [
      "<Response [404]>\n"
     ]
    }
   ],
   "source": [
    "response = requests.post(url, json=customer1)\n",
    "print(response)"
   ]
  },
  {
   "cell_type": "code",
   "execution_count": 35,
   "metadata": {},
   "outputs": [
    {
     "data": {
      "text/plain": [
       "{'Churn label': 0.0, 'Customer Status': True}"
      ]
     },
     "execution_count": 35,
     "metadata": {},
     "output_type": "execute_result"
    }
   ],
   "source": [
    "response = requests.post(url, json=customer2)\n",
    "response.json()"
   ]
  },
  {
   "cell_type": "code",
   "execution_count": 21,
   "metadata": {},
   "outputs": [
    {
     "data": {
      "text/plain": [
       "{'Churn label': 0.0741279669762642, 'Customer Status': False}"
      ]
     },
     "execution_count": 21,
     "metadata": {},
     "output_type": "execute_result"
    }
   ],
   "source": [
    "response = requests.post(url, json=customer3)\n",
    "response.json()"
   ]
  }
 ],
 "metadata": {
  "kernelspec": {
   "display_name": "Python 3 (ipykernel)",
   "language": "python",
   "name": "python3"
  },
  "language_info": {
   "codemirror_mode": {
    "name": "ipython",
    "version": 3
   },
   "file_extension": ".py",
   "mimetype": "text/x-python",
   "name": "python",
   "nbconvert_exporter": "python",
   "pygments_lexer": "ipython3",
   "version": "3.10.11"
  }
 },
 "nbformat": 4,
 "nbformat_minor": 2
}
