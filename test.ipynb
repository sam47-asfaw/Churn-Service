{
 "cells": [
  {
   "cell_type": "code",
   "execution_count": 49,
   "metadata": {},
   "outputs": [],
   "source": [
    "import requests"
   ]
  },
  {
   "cell_type": "code",
   "execution_count": 50,
   "metadata": {},
   "outputs": [],
   "source": [
    "url = \"http://127.0.0.1:8888/predict\""
   ]
  },
  {
   "cell_type": "code",
   "execution_count": 51,
   "metadata": {},
   "outputs": [],
   "source": [
    "#stayed customer\n",
    "customer1={'customer_id': '0003-MKNFE',\n",
    " 'gender': 'Male',\n",
    " 'age': 46,\n",
    " 'married': 'No',\n",
    " 'number_of_dependents': 0,\n",
    " 'city': 'Glendale',\n",
    " 'zip_code': 91206,\n",
    " 'latitude': 34.162515,\n",
    " 'longitude': -118.203869,\n",
    " 'number_of_referrals': 0,\n",
    " 'tenure_in_months': 9,\n",
    " 'offer': 'None',\n",
    " 'phone_service': 'Yes',\n",
    " 'avg_monthly_long_distance_charges': 10.69,\n",
    " 'multiple_lines': 'Yes',\n",
    " 'internet_service': 'Yes',\n",
    " 'internet_type': 'Cable',\n",
    " 'avg_monthly_gb_download': 10.0,\n",
    " 'online_security': 'No',\n",
    " 'online_backup': 'No',\n",
    " 'device_protection_plan': 'No',\n",
    " 'premium_tech_support': 'No',\n",
    " 'streaming_tv': 'No',\n",
    " 'streaming_movies': 'Yes',\n",
    " 'streaming_music': 'Yes',\n",
    " 'unlimited_data': 'No',\n",
    " 'contract': 'Month-to-Month',\n",
    " 'paperless_billing': 'No',\n",
    " 'payment_method': 'Credit Card',\n",
    " 'monthly_charge': -4.0,\n",
    " 'total_charges': 542.4,\n",
    " 'total_refunds': 38.33,\n",
    " 'total_extra_data_charges': 10,\n",
    " 'total_long_distance_charges': 96.21,\n",
    " 'total_revenue': 610.28,\n",
    " 'customer_status': 2.0,\n",
    " 'churn_category': 'Competitor',\n",
    " 'churn_reason': 'Competitor had better devices'}"
   ]
  },
  {
   "cell_type": "code",
   "execution_count": 52,
   "metadata": {},
   "outputs": [],
   "source": [
    "customer2={'customer_id': '2362-IBOOY',\n",
    " 'gender': 'Male',\n",
    " 'age': 22,\n",
    " 'married': 'No',\n",
    " 'number_of_dependents': 0,\n",
    " 'city': 'San Diego',\n",
    " 'zip_code': 92126,\n",
    " 'latitude': 32.886925,\n",
    " 'longitude': -117.152162,\n",
    " 'number_of_referrals': 0,\n",
    " 'tenure_in_months': 36,\n",
    " 'offer': 'Offer C',\n",
    " 'phone_service': 'Yes',\n",
    " 'avg_monthly_long_distance_charges': 43.97,\n",
    " 'multiple_lines': 'Yes',\n",
    " 'internet_service': 'Yes',\n",
    " 'internet_type': 'Fiber Optic',\n",
    " 'avg_monthly_gb_download': 42.0,\n",
    " 'online_security': 'No',\n",
    " 'online_backup': 'No',\n",
    " 'device_protection_plan': 'No',\n",
    " 'premium_tech_support': 'No',\n",
    " 'streaming_tv': 'No',\n",
    " 'streaming_movies': 'Yes',\n",
    " 'streaming_music': 'Yes',\n",
    " 'unlimited_data': 'Yes',\n",
    " 'contract': 'Month-to-Month',\n",
    " 'paperless_billing': 'Yes',\n",
    " 'payment_method': 'Bank Withdrawal',\n",
    " 'monthly_charge': 84.75,\n",
    " 'total_charges': 3050.15,\n",
    " 'total_refunds': 0.0,\n",
    " 'total_extra_data_charges': 0,\n",
    " 'total_long_distance_charges': 1582.92,\n",
    " 'total_revenue': 4633.07,\n",
    " 'churn_category': 'Competitor',\n",
    " 'churn_reason': 'Competitor made better offer'}"
   ]
  },
  {
   "cell_type": "code",
   "execution_count": 53,
   "metadata": {},
   "outputs": [],
   "source": [
    "customer3={'customer_id': '7302-ZHMHP',\n",
    " 'gender': 'Female',\n",
    " 'age': 35,\n",
    " 'married': 'No',\n",
    " 'number_of_dependents': 0,\n",
    " 'city': 'Coronado',\n",
    " 'zip_code': 92118,\n",
    " 'latitude': 32.68674,\n",
    " 'longitude': -117.186612,\n",
    " 'number_of_referrals': 0,\n",
    " 'tenure_in_months': 1,\n",
    " 'offer': 'None',\n",
    " 'phone_service': 'Yes',\n",
    " 'avg_monthly_long_distance_charges': 22.37,\n",
    " 'multiple_lines': 'No',\n",
    " 'internet_service': 'No',\n",
    " 'internet_type': 'Fiber Optic',\n",
    " 'avg_monthly_gb_download': 26.189958310676094,\n",
    " 'online_security': 'No',\n",
    " 'online_backup': 'No',\n",
    " 'device_protection_plan': 'No',\n",
    " 'premium_tech_support': 'No',\n",
    " 'streaming_tv': 'No',\n",
    " 'streaming_movies': 'No',\n",
    " 'streaming_music': 'No',\n",
    " 'unlimited_data': 'Yes',\n",
    " 'contract': 'Month-to-Month',\n",
    " 'paperless_billing': 'No',\n",
    " 'payment_method': 'Credit Card',\n",
    " 'monthly_charge': 19.15,\n",
    " 'total_charges': 19.15,\n",
    " 'total_refunds': 0.0,\n",
    " 'total_extra_data_charges': 0,\n",
    " 'total_long_distance_charges': 22.37,\n",
    " 'total_revenue': 41.52,\n",
    " 'churn_category': 'Competitor',\n",
    " 'churn_reason': 'Competitor had better devices'}"
   ]
  },
  {
   "cell_type": "code",
   "execution_count": 54,
   "metadata": {},
   "outputs": [
    {
     "data": {
      "text/plain": [
       "{'Churn label': 0.003035143769968051, 'Customer Status': False}"
      ]
     },
     "execution_count": 54,
     "metadata": {},
     "output_type": "execute_result"
    }
   ],
   "source": [
    "response = requests.post(url, json=customer1)\n",
    "response.json()"
   ]
  },
  {
   "cell_type": "code",
   "execution_count": 55,
   "metadata": {},
   "outputs": [
    {
     "data": {
      "text/plain": [
       "{'Churn label': 0.0, 'Customer Status': True}"
      ]
     },
     "execution_count": 55,
     "metadata": {},
     "output_type": "execute_result"
    }
   ],
   "source": [
    "requests.post(url, json=customer2).json()"
   ]
  },
  {
   "cell_type": "code",
   "execution_count": 56,
   "metadata": {},
   "outputs": [
    {
     "data": {
      "text/plain": [
       "{'Churn label': 0.0741279669762642, 'Customer Status': False}"
      ]
     },
     "execution_count": 56,
     "metadata": {},
     "output_type": "execute_result"
    }
   ],
   "source": [
    "requests.post(url, json=customer3).json()"
   ]
  }
 ],
 "metadata": {
  "kernelspec": {
   "display_name": "Python 3 (ipykernel)",
   "language": "python",
   "name": "python3"
  },
  "language_info": {
   "codemirror_mode": {
    "name": "ipython",
    "version": 3
   },
   "file_extension": ".py",
   "mimetype": "text/x-python",
   "name": "python",
   "nbconvert_exporter": "python",
   "pygments_lexer": "ipython3",
   "version": "3.10.11"
  }
 },
 "nbformat": 4,
 "nbformat_minor": 2
}
