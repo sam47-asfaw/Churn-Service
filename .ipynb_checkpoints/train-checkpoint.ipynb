{
 "cells": [
  {
   "cell_type": "code",
   "execution_count": 2,
   "metadata": {},
   "outputs": [],
   "source": [
    "import pickle\n",
    "\n",
    "import pandas as pd\n",
    "import numpy as np\n",
    "\n",
    "from sklearn.model_selection import train_test_split\n",
    "from sklearn.model_selection import KFold\n",
    "\n",
    "from sklearn.feature_extraction import DictVectorizer\n",
    "from sklearn.linear_model import LogisticRegression\n",
    "from sklearn.preprocessing import OrdinalEncoder\n",
    "from sklearn.ensemble import RandomForestClassifier\n",
    "\n",
    "from sklearn.metrics import roc_auc_score\n",
    "from sklearn.metrics import mutual_info_score\n",
    "from sklearn.metrics import f1_score\n",
    "\n",
    "import warnings\n",
    "warnings.filterwarnings('ignore')"
   ]
  },
  {
   "cell_type": "code",
   "execution_count": 3,
   "metadata": {},
   "outputs": [],
   "source": [
    "# read and display general information about the dataset\n",
    "df = pd.read_csv('telecom_customer_churn.csv')\n",
    "\n",
    "df.columns = df.columns.str.lower().str.replace(' ', '_')\n",
    "num_types = ['int64', 'float64']\n",
    "numeric = list(df.select_dtypes(include=num_types))\n",
    "for col in numeric:\n",
    "    df[col].fillna(value=df[col].mean(), inplace=True)\n",
    "\n",
    "\n",
    "categorical = list(df.select_dtypes(include='O'))\n",
    "for col in categorical:\n",
    "    most_occurring_word = df[col].mode()[0]\n",
    "    df[col] = df[col].fillna(most_occurring_word)\n"
   ]
  },
  {
   "cell_type": "code",
   "execution_count": 4,
   "metadata": {},
   "outputs": [
    {
     "data": {
      "text/plain": [
       "2.0    0.670169\n",
       "0.0    0.265370\n",
       "1.0    0.064461\n",
       "Name: customer_status, dtype: float64"
      ]
     },
     "execution_count": 4,
     "metadata": {},
     "output_type": "execute_result"
    }
   ],
   "source": [
    "encoder = OrdinalEncoder()\n",
    "df['customer_status'] = encoder.fit_transform(df[['customer_status']])\n",
    "df['customer_status'].value_counts(normalize=True)"
   ]
  },
  {
   "cell_type": "code",
   "execution_count": 5,
   "metadata": {},
   "outputs": [],
   "source": [
    "# Split the Dataset into train and test\n",
    "SEED = 42\n",
    "df_full_train, df_test = train_test_split(df, test_size=0.2, random_state=SEED)"
   ]
  },
  {
   "cell_type": "code",
   "execution_count": 6,
   "metadata": {},
   "outputs": [],
   "source": [
    "df_full_train = df_full_train.reset_index(drop=True)"
   ]
  },
  {
   "cell_type": "code",
   "execution_count": 8,
   "metadata": {},
   "outputs": [],
   "source": [
    "# final features selected\n",
    "numeric =  [ 'age',\n",
    " 'number_of_dependents',\n",
    " 'zip_code',\n",
    " 'latitude',\n",
    " 'longitude',\n",
    "    'number_of_dependents',\n",
    "    'number_of_referrals',\n",
    "    'tenure_in_months',\n",
    "    'monthly_charge',\n",
    "    'total_charges',\n",
    "    'total_refunds',\n",
    "    'total_long_distance_charges',\n",
    "    'total_revenue'\n",
    "]\n",
    "\n",
    "categorical = [\n",
    "    'gender',\n",
    "    'married',\n",
    "    'city',\n",
    "    'churn_reason',\n",
    "    'churn_category',\n",
    "    'city',\n",
    "    'contract',\n",
    "    'offer', \n",
    "    'internet_service',\n",
    "    'device_protection_plan',\n",
    "    'premium_tech_support',\n",
    "    'streaming_tv',\n",
    "    'streaming_movies',\n",
    "    'streaming_music',\n",
    "    'unlimited_data',\n",
    "    'paperless_billing',\n",
    "    'payment_method',\n",
    "]"
   ]
  },
  {
   "cell_type": "code",
   "execution_count": 19,
   "metadata": {},
   "outputs": [],
   "source": [
    "def train(data, y,model):\n",
    "    dicts = data[categorical + numeric].to_dict(orient='records')\n",
    "\n",
    "    dv = DictVectorizer(sparse=True)\n",
    "    X_train = dv.fit_transform(dicts)\n",
    "\n",
    "    m = model.fit(X_train, y)\n",
    "\n",
    "    return dv, m\n",
    "\n",
    "def predict(data, dv, model):\n",
    "    dicts = data[categorical + numeric].to_dict(orient='records')\n",
    "\n",
    "    X = dv.transform(dicts)\n",
    "\n",
    "    y_pred_prob = model.predict_proba(X)\n",
    "\n",
    "    return y_pred_prob"
   ]
  },
  {
   "cell_type": "code",
   "execution_count": 20,
   "metadata": {},
   "outputs": [],
   "source": [
    "rf = RandomForestClassifier(\n",
    "                max_depth=20,\n",
    "                  n_estimators=20, \n",
    "                  min_samples_leaf=2,\n",
    "                  random_state=1)\n",
    "dv, model = train(df_full_train, df_full_train.customer_status,rf)\n",
    "y_pred = predict(df_test, dv, model)"
   ]
  },
  {
   "cell_type": "code",
   "execution_count": 21,
   "metadata": {},
   "outputs": [
    {
     "name": "stdout",
     "output_type": "stream",
     "text": [
      "ROC AUC Score: 0.98852983532306\n"
     ]
    }
   ],
   "source": [
    "roc_auc = roc_auc_score(df_test.customer_status, y_pred_prob, average='micro', multi_class= 'ovr')  \n",
    "print(f\"ROC AUC Score: {roc_auc}\")"
   ]
  },
  {
   "cell_type": "code",
   "execution_count": 22,
   "metadata": {},
   "outputs": [
    {
     "data": {
      "text/plain": [
       "'model_C=1.0.bin'"
      ]
     },
     "execution_count": 22,
     "metadata": {},
     "output_type": "execute_result"
    }
   ],
   "source": [
    "output_file = f'model_C={1.0}.bin'\n",
    "output_file"
   ]
  },
  {
   "cell_type": "code",
   "execution_count": 23,
   "metadata": {},
   "outputs": [],
   "source": [
    "f_out = open(output_file, 'wb')\n",
    "pickle.dump((dv,rf), f_out)\n",
    "f_out.close()"
   ]
  }
 ],
 "metadata": {
  "kernelspec": {
   "display_name": "Python 3 (ipykernel)",
   "language": "python",
   "name": "python3"
  },
  "language_info": {
   "codemirror_mode": {
    "name": "ipython",
    "version": 3
   },
   "file_extension": ".py",
   "mimetype": "text/x-python",
   "name": "python",
   "nbconvert_exporter": "python",
   "pygments_lexer": "ipython3",
   "version": "3.10.11"
  }
 },
 "nbformat": 4,
 "nbformat_minor": 2
}
